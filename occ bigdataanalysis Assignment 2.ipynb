{
  "nbformat": 4,
  "nbformat_minor": 0,
  "metadata": {
    "colab": {
      "provenance": []
    },
    "kernelspec": {
      "name": "python3",
      "display_name": "Python 3"
    },
    "language_info": {
      "name": "python"
    }
  },
  "cells": [
    {
      "cell_type": "code",
      "execution_count": 1,
      "metadata": {
        "colab": {
          "base_uri": "https://localhost:8080/"
        },
        "id": "MFsCccWWwIKk",
        "outputId": "bb5fdb26-105d-4863-db54-f02abe05e96a"
      },
      "outputs": [
        {
          "metadata": {
            "tags": null
          },
          "name": "stdout",
          "output_type": "stream",
          "text": [
            "Requirement already satisfied: pyspark in /usr/local/lib/python3.12/dist-packages (3.5.1)\n",
            "Requirement already satisfied: py4j==0.10.9.7 in /usr/local/lib/python3.12/dist-packages (from pyspark) (0.10.9.7)\n"
          ]
        }
      ],
      "source": [
        "!pip install pyspark\n"
      ]
    },
    {
      "cell_type": "code",
      "source": [
        "from pyspark.sql import SparkSession"
      ],
      "metadata": {
        "id": "k7w-PGrwwepb"
      },
      "execution_count": 2,
      "outputs": []
    },
    {
      "cell_type": "code",
      "source": [
        "spark = SparkSession.builder.appName(\"NetflixSQL\").getOrCreate()\n"
      ],
      "metadata": {
        "id": "bxttZzK-wpJG"
      },
      "execution_count": 3,
      "outputs": []
    },
    {
      "cell_type": "code",
      "source": [
        "from google.colab import files\n",
        "uploaded = files.upload()\n"
      ],
      "metadata": {
        "colab": {
          "base_uri": "https://localhost:8080/",
          "height": 73
        },
        "id": "jfeG9ooSw-Lf",
        "outputId": "cf3a7400-60f1-46ce-e493-ae22d322e6d2"
      },
      "execution_count": 4,
      "outputs": [
        {
          "output_type": "display_data",
          "data": {
            "text/plain": [
              "<IPython.core.display.HTML object>"
            ],
            "text/html": [
              "\n",
              "     <input type=\"file\" id=\"files-d67e97ef-7ff1-42e1-bb2e-bd8d8eedd726\" name=\"files[]\" multiple disabled\n",
              "        style=\"border:none\" />\n",
              "     <output id=\"result-d67e97ef-7ff1-42e1-bb2e-bd8d8eedd726\">\n",
              "      Upload widget is only available when the cell has been executed in the\n",
              "      current browser session. Please rerun this cell to enable.\n",
              "      </output>\n",
              "      <script>// Copyright 2017 Google LLC\n",
              "//\n",
              "// Licensed under the Apache License, Version 2.0 (the \"License\");\n",
              "// you may not use this file except in compliance with the License.\n",
              "// You may obtain a copy of the License at\n",
              "//\n",
              "//      http://www.apache.org/licenses/LICENSE-2.0\n",
              "//\n",
              "// Unless required by applicable law or agreed to in writing, software\n",
              "// distributed under the License is distributed on an \"AS IS\" BASIS,\n",
              "// WITHOUT WARRANTIES OR CONDITIONS OF ANY KIND, either express or implied.\n",
              "// See the License for the specific language governing permissions and\n",
              "// limitations under the License.\n",
              "\n",
              "/**\n",
              " * @fileoverview Helpers for google.colab Python module.\n",
              " */\n",
              "(function(scope) {\n",
              "function span(text, styleAttributes = {}) {\n",
              "  const element = document.createElement('span');\n",
              "  element.textContent = text;\n",
              "  for (const key of Object.keys(styleAttributes)) {\n",
              "    element.style[key] = styleAttributes[key];\n",
              "  }\n",
              "  return element;\n",
              "}\n",
              "\n",
              "// Max number of bytes which will be uploaded at a time.\n",
              "const MAX_PAYLOAD_SIZE = 100 * 1024;\n",
              "\n",
              "function _uploadFiles(inputId, outputId) {\n",
              "  const steps = uploadFilesStep(inputId, outputId);\n",
              "  const outputElement = document.getElementById(outputId);\n",
              "  // Cache steps on the outputElement to make it available for the next call\n",
              "  // to uploadFilesContinue from Python.\n",
              "  outputElement.steps = steps;\n",
              "\n",
              "  return _uploadFilesContinue(outputId);\n",
              "}\n",
              "\n",
              "// This is roughly an async generator (not supported in the browser yet),\n",
              "// where there are multiple asynchronous steps and the Python side is going\n",
              "// to poll for completion of each step.\n",
              "// This uses a Promise to block the python side on completion of each step,\n",
              "// then passes the result of the previous step as the input to the next step.\n",
              "function _uploadFilesContinue(outputId) {\n",
              "  const outputElement = document.getElementById(outputId);\n",
              "  const steps = outputElement.steps;\n",
              "\n",
              "  const next = steps.next(outputElement.lastPromiseValue);\n",
              "  return Promise.resolve(next.value.promise).then((value) => {\n",
              "    // Cache the last promise value to make it available to the next\n",
              "    // step of the generator.\n",
              "    outputElement.lastPromiseValue = value;\n",
              "    return next.value.response;\n",
              "  });\n",
              "}\n",
              "\n",
              "/**\n",
              " * Generator function which is called between each async step of the upload\n",
              " * process.\n",
              " * @param {string} inputId Element ID of the input file picker element.\n",
              " * @param {string} outputId Element ID of the output display.\n",
              " * @return {!Iterable<!Object>} Iterable of next steps.\n",
              " */\n",
              "function* uploadFilesStep(inputId, outputId) {\n",
              "  const inputElement = document.getElementById(inputId);\n",
              "  inputElement.disabled = false;\n",
              "\n",
              "  const outputElement = document.getElementById(outputId);\n",
              "  outputElement.innerHTML = '';\n",
              "\n",
              "  const pickedPromise = new Promise((resolve) => {\n",
              "    inputElement.addEventListener('change', (e) => {\n",
              "      resolve(e.target.files);\n",
              "    });\n",
              "  });\n",
              "\n",
              "  const cancel = document.createElement('button');\n",
              "  inputElement.parentElement.appendChild(cancel);\n",
              "  cancel.textContent = 'Cancel upload';\n",
              "  const cancelPromise = new Promise((resolve) => {\n",
              "    cancel.onclick = () => {\n",
              "      resolve(null);\n",
              "    };\n",
              "  });\n",
              "\n",
              "  // Wait for the user to pick the files.\n",
              "  const files = yield {\n",
              "    promise: Promise.race([pickedPromise, cancelPromise]),\n",
              "    response: {\n",
              "      action: 'starting',\n",
              "    }\n",
              "  };\n",
              "\n",
              "  cancel.remove();\n",
              "\n",
              "  // Disable the input element since further picks are not allowed.\n",
              "  inputElement.disabled = true;\n",
              "\n",
              "  if (!files) {\n",
              "    return {\n",
              "      response: {\n",
              "        action: 'complete',\n",
              "      }\n",
              "    };\n",
              "  }\n",
              "\n",
              "  for (const file of files) {\n",
              "    const li = document.createElement('li');\n",
              "    li.append(span(file.name, {fontWeight: 'bold'}));\n",
              "    li.append(span(\n",
              "        `(${file.type || 'n/a'}) - ${file.size} bytes, ` +\n",
              "        `last modified: ${\n",
              "            file.lastModifiedDate ? file.lastModifiedDate.toLocaleDateString() :\n",
              "                                    'n/a'} - `));\n",
              "    const percent = span('0% done');\n",
              "    li.appendChild(percent);\n",
              "\n",
              "    outputElement.appendChild(li);\n",
              "\n",
              "    const fileDataPromise = new Promise((resolve) => {\n",
              "      const reader = new FileReader();\n",
              "      reader.onload = (e) => {\n",
              "        resolve(e.target.result);\n",
              "      };\n",
              "      reader.readAsArrayBuffer(file);\n",
              "    });\n",
              "    // Wait for the data to be ready.\n",
              "    let fileData = yield {\n",
              "      promise: fileDataPromise,\n",
              "      response: {\n",
              "        action: 'continue',\n",
              "      }\n",
              "    };\n",
              "\n",
              "    // Use a chunked sending to avoid message size limits. See b/62115660.\n",
              "    let position = 0;\n",
              "    do {\n",
              "      const length = Math.min(fileData.byteLength - position, MAX_PAYLOAD_SIZE);\n",
              "      const chunk = new Uint8Array(fileData, position, length);\n",
              "      position += length;\n",
              "\n",
              "      const base64 = btoa(String.fromCharCode.apply(null, chunk));\n",
              "      yield {\n",
              "        response: {\n",
              "          action: 'append',\n",
              "          file: file.name,\n",
              "          data: base64,\n",
              "        },\n",
              "      };\n",
              "\n",
              "      let percentDone = fileData.byteLength === 0 ?\n",
              "          100 :\n",
              "          Math.round((position / fileData.byteLength) * 100);\n",
              "      percent.textContent = `${percentDone}% done`;\n",
              "\n",
              "    } while (position < fileData.byteLength);\n",
              "  }\n",
              "\n",
              "  // All done.\n",
              "  yield {\n",
              "    response: {\n",
              "      action: 'complete',\n",
              "    }\n",
              "  };\n",
              "}\n",
              "\n",
              "scope.google = scope.google || {};\n",
              "scope.google.colab = scope.google.colab || {};\n",
              "scope.google.colab._files = {\n",
              "  _uploadFiles,\n",
              "  _uploadFilesContinue,\n",
              "};\n",
              "})(self);\n",
              "</script> "
            ]
          },
          "metadata": {}
        },
        {
          "output_type": "stream",
          "name": "stdout",
          "text": [
            "Saving netflix_titles.csv to netflix_titles (1).csv\n"
          ]
        }
      ]
    },
    {
      "cell_type": "code",
      "source": [
        "df = spark.read.csv(\"/content/netflix_titles (1).csv\", header=True, inferSchema=True)\n"
      ],
      "metadata": {
        "id": "eBXvYLKCxNU6"
      },
      "execution_count": 5,
      "outputs": []
    },
    {
      "cell_type": "code",
      "source": [
        "# Show schema & sample\n",
        "df.printSchema()\n",
        "df.show(5)"
      ],
      "metadata": {
        "colab": {
          "base_uri": "https://localhost:8080/"
        },
        "id": "1OlGqOq5xWz-",
        "outputId": "69ab27b1-ca51-4ffe-9312-5f1ef3db693c"
      },
      "execution_count": 6,
      "outputs": [
        {
          "output_type": "stream",
          "name": "stdout",
          "text": [
            "root\n",
            " |-- show_id: string (nullable = true)\n",
            " |-- type: string (nullable = true)\n",
            " |-- title: string (nullable = true)\n",
            " |-- director: string (nullable = true)\n",
            " |-- cast: string (nullable = true)\n",
            " |-- country: string (nullable = true)\n",
            " |-- date_added: string (nullable = true)\n",
            " |-- release_year: string (nullable = true)\n",
            " |-- rating: string (nullable = true)\n",
            " |-- duration: string (nullable = true)\n",
            " |-- listed_in: string (nullable = true)\n",
            " |-- description: string (nullable = true)\n",
            "\n",
            "+-------+-------+--------------------+---------------+--------------------+-------------+------------------+------------+------+---------+--------------------+--------------------+\n",
            "|show_id|   type|               title|       director|                cast|      country|        date_added|release_year|rating| duration|           listed_in|         description|\n",
            "+-------+-------+--------------------+---------------+--------------------+-------------+------------------+------------+------+---------+--------------------+--------------------+\n",
            "|     s1|  Movie|Dick Johnson Is Dead|Kirsten Johnson|                NULL|United States|September 25, 2021|        2020| PG-13|   90 min|       Documentaries|As her father nea...|\n",
            "|     s2|TV Show|       Blood & Water|           NULL|Ama Qamata, Khosi...| South Africa|September 24, 2021|        2021| TV-MA|2 Seasons|International TV ...|After crossing pa...|\n",
            "|     s3|TV Show|           Ganglands|Julien Leclercq|Sami Bouajila, Tr...|         NULL|September 24, 2021|        2021| TV-MA| 1 Season|Crime TV Shows, I...|To protect his fa...|\n",
            "|     s4|TV Show|Jailbirds New Orl...|           NULL|                NULL|         NULL|September 24, 2021|        2021| TV-MA| 1 Season|Docuseries, Reali...|Feuds, flirtation...|\n",
            "|     s5|TV Show|        Kota Factory|           NULL|Mayur More, Jiten...|        India|September 24, 2021|        2021| TV-MA|2 Seasons|International TV ...|In a city of coac...|\n",
            "+-------+-------+--------------------+---------------+--------------------+-------------+------------------+------------+------+---------+--------------------+--------------------+\n",
            "only showing top 5 rows\n",
            "\n"
          ]
        }
      ]
    },
    {
      "cell_type": "code",
      "source": [
        "df.createOrReplaceTempView(\"netflix\")\n"
      ],
      "metadata": {
        "id": "NPzaszC_xd2d"
      },
      "execution_count": 7,
      "outputs": []
    },
    {
      "cell_type": "markdown",
      "source": [
        "SQL queries"
      ],
      "metadata": {
        "id": "X4aY10y9xhBY"
      }
    },
    {
      "cell_type": "code",
      "source": [
        "#1. Total number of Movies vs TV Shows\n",
        "spark.sql(\"\"\"\n",
        "    SELECT type, COUNT(*) as total\n",
        "    FROM netflix\n",
        "    GROUP BY type\n",
        "\"\"\").show()"
      ],
      "metadata": {
        "colab": {
          "base_uri": "https://localhost:8080/"
        },
        "id": "oPFuuK8QxqE2",
        "outputId": "1d34e1a1-880a-4f1d-93fe-fec385cb6ba0"
      },
      "execution_count": 9,
      "outputs": [
        {
          "output_type": "stream",
          "name": "stdout",
          "text": [
            "+-------------+-----+\n",
            "|         type|total|\n",
            "+-------------+-----+\n",
            "|         NULL|    1|\n",
            "|      TV Show| 2676|\n",
            "|        Movie| 6131|\n",
            "|William Wyler|    1|\n",
            "+-------------+-----+\n",
            "\n"
          ]
        }
      ]
    },
    {
      "cell_type": "code",
      "source": [
        "#2. Top 10 countries with most content\n",
        "spark.sql(\"\"\"\n",
        "    SELECT country, COUNT(*) as total_content\n",
        "    FROM netflix\n",
        "    WHERE country IS NOT NULL\n",
        "    GROUP BY country\n",
        "    ORDER BY total_content DESC\n",
        "    LIMIT 10\n",
        "\"\"\").show()\n"
      ],
      "metadata": {
        "colab": {
          "base_uri": "https://localhost:8080/"
        },
        "id": "9RDPc8ToxywK",
        "outputId": "67331bda-74c6-4019-b561-4ed2db1130b0"
      },
      "execution_count": 10,
      "outputs": [
        {
          "output_type": "stream",
          "name": "stdout",
          "text": [
            "+--------------+-------------+\n",
            "|       country|total_content|\n",
            "+--------------+-------------+\n",
            "| United States|         2805|\n",
            "|         India|          972|\n",
            "|United Kingdom|          419|\n",
            "|         Japan|          245|\n",
            "|   South Korea|          199|\n",
            "|        Canada|          181|\n",
            "|         Spain|          145|\n",
            "|        France|          123|\n",
            "|        Mexico|          110|\n",
            "|         Egypt|          106|\n",
            "+--------------+-------------+\n",
            "\n"
          ]
        }
      ]
    },
    {
      "cell_type": "code",
      "source": [
        "#3. Number of titles released each year\n",
        "spark.sql(\"\"\"\n",
        "    SELECT release_year, COUNT(*) as total_titles\n",
        "    FROM netflix\n",
        "    GROUP BY release_year\n",
        "    ORDER BY release_year DESC\n",
        "\"\"\").show(10)"
      ],
      "metadata": {
        "colab": {
          "base_uri": "https://localhost:8080/"
        },
        "id": "JtZoYtI1x6hy",
        "outputId": "1e242400-d06e-4506-fd71-592eb282fc89"
      },
      "execution_count": 11,
      "outputs": [
        {
          "output_type": "stream",
          "name": "stdout",
          "text": [
            "+-----------------+------------+\n",
            "|     release_year|total_titles|\n",
            "+-----------------+------------+\n",
            "|    United States|           1|\n",
            "|    June 12, 2021|           1|\n",
            "| January 15, 2021|           1|\n",
            "| January 13, 2021|           1|\n",
            "|December 15, 2020|           1|\n",
            "|  August 13, 2020|           1|\n",
            "|           40 min|           1|\n",
            "|             2021|         589|\n",
            "|             2020|         952|\n",
            "|             2019|        1026|\n",
            "+-----------------+------------+\n",
            "only showing top 10 rows\n",
            "\n"
          ]
        }
      ]
    },
    {
      "cell_type": "code",
      "source": [
        "#4. Most common ratings\n",
        "spark.sql(\"\"\"\n",
        "    SELECT rating, COUNT(*) as total\n",
        "    FROM netflix\n",
        "    GROUP BY rating\n",
        "    ORDER BY total DESC\n",
        "\"\"\").show()\n"
      ],
      "metadata": {
        "colab": {
          "base_uri": "https://localhost:8080/"
        },
        "id": "q0s2218yyIaL",
        "outputId": "f8c8ec7e-4f62-4719-819b-e158f8bbc627"
      },
      "execution_count": 12,
      "outputs": [
        {
          "output_type": "stream",
          "name": "stdout",
          "text": [
            "+-----------------+-----+\n",
            "|           rating|total|\n",
            "+-----------------+-----+\n",
            "|            TV-MA| 3195|\n",
            "|            TV-14| 2158|\n",
            "|            TV-PG|  862|\n",
            "|                R|  796|\n",
            "|            PG-13|  489|\n",
            "|            TV-Y7|  334|\n",
            "|             TV-Y|  307|\n",
            "|               PG|  286|\n",
            "|             TV-G|  220|\n",
            "|               NR|   80|\n",
            "|                G|   41|\n",
            "|             NULL|    6|\n",
            "|         TV-Y7-FV|    6|\n",
            "|               UR|    3|\n",
            "|            NC-17|    3|\n",
            "|             2021|    2|\n",
            "| November 1, 2020|    1|\n",
            "| Shavidee Trotter|    1|\n",
            "|    Adriane Lenox|    1|\n",
            "|    Maury Chaykin|    1|\n",
            "+-----------------+-----+\n",
            "only showing top 20 rows\n",
            "\n"
          ]
        }
      ]
    },
    {
      "cell_type": "code",
      "source": [
        "#5. Filter – All Indian Movies\n",
        "spark.sql(\"\"\"\n",
        "    SELECT title, release_year, rating\n",
        "    FROM netflix\n",
        "    WHERE country = 'India' AND type = 'Movie'\n",
        "    ORDER BY release_year DESC\n",
        "\"\"\").show(10)"
      ],
      "metadata": {
        "colab": {
          "base_uri": "https://localhost:8080/"
        },
        "id": "KwvAjFXvyN_r",
        "outputId": "330cbc9a-2f97-4849-87bf-a662bfa124b5"
      },
      "execution_count": 13,
      "outputs": [
        {
          "output_type": "stream",
          "name": "stdout",
          "text": [
            "+--------------------+------------+------+\n",
            "|               title|release_year|rating|\n",
            "+--------------------+------------+------+\n",
            "|  Sardar Ka Grandson|        2021| TV-14|\n",
            "|Searching For Sheela|        2021| TV-14|\n",
            "|               Ahaan|        2021| TV-MA|\n",
            "|             Sarbath|        2021| TV-PG|\n",
            "|        Cinema Bandi|        2021| TV-MA|\n",
            "|          Thimmarusu|        2021| TV-14|\n",
            "|           Milestone|        2021| TV-14|\n",
            "|            99 Songs|        2021| TV-14|\n",
            "|     Haseen Dillruba|        2021| TV-MA|\n",
            "|             Nayattu|        2021| TV-MA|\n",
            "+--------------------+------------+------+\n",
            "only showing top 10 rows\n",
            "\n"
          ]
        }
      ]
    },
    {
      "cell_type": "code",
      "source": [
        "#6. Top 5 Directors with Most Content on Netflix\n",
        "spark.sql(\"\"\"\n",
        "    SELECT director, COUNT(*) as total_titles\n",
        "    FROM netflix\n",
        "    WHERE director IS NOT NULL\n",
        "    GROUP BY director\n",
        "    ORDER BY total_titles DESC\n",
        "    LIMIT 5\n",
        "\"\"\").show()"
      ],
      "metadata": {
        "colab": {
          "base_uri": "https://localhost:8080/"
        },
        "id": "theVG0OJyfUp",
        "outputId": "84ecdf42-c40c-46a0-97a9-a9eefff359a1"
      },
      "execution_count": 14,
      "outputs": [
        {
          "output_type": "stream",
          "name": "stdout",
          "text": [
            "+--------------------+------------+\n",
            "|            director|total_titles|\n",
            "+--------------------+------------+\n",
            "|       Rajiv Chilaka|          19|\n",
            "|Raúl Campos, Jan ...|          18|\n",
            "|        Marcus Raboy|          16|\n",
            "|         Suhas Kadav|          16|\n",
            "|           Jay Karas|          14|\n",
            "+--------------------+------------+\n",
            "\n"
          ]
        }
      ]
    },
    {
      "cell_type": "code",
      "source": [
        "#7. Longest Description (title with most words in description)\n",
        "from pyspark.sql.functions import size, split\n",
        "\n",
        "df2 = df.withColumn(\"desc_length\", size(split(df[\"description\"], \" \")))\n",
        "df2.createOrReplaceTempView(\"netflix_desc\")\n",
        "\n",
        "spark.sql(\"\"\"\n",
        "    SELECT title, desc_length\n",
        "    FROM netflix_desc\n",
        "    ORDER BY desc_length DESC\n",
        "    LIMIT 5\n",
        "\"\"\").show()"
      ],
      "metadata": {
        "colab": {
          "base_uri": "https://localhost:8080/"
        },
        "id": "_v3G4xjhy3FZ",
        "outputId": "8dfeb128-a5c5-488e-e3a4-7d598bda7760"
      },
      "execution_count": 15,
      "outputs": [
        {
          "output_type": "stream",
          "name": "stdout",
          "text": [
            "+--------------------+-----------+\n",
            "|               title|desc_length|\n",
            "+--------------------+-----------+\n",
            "|               Billu|         48|\n",
            "|            Snow Day|         44|\n",
            "|Shootout at Lokha...|         44|\n",
            "| Balto 2: Wolf Quest|         44|\n",
            "|Opium and the Kun...|         42|\n",
            "+--------------------+-----------+\n",
            "\n"
          ]
        }
      ]
    },
    {
      "cell_type": "code",
      "source": [
        "#8. Trend of TV Shows vs Movies Over Time\n",
        "spark.sql(\"\"\"\n",
        "    SELECT release_year, type, COUNT(*) as total\n",
        "    FROM netflix\n",
        "    GROUP BY release_year, type\n",
        "    ORDER BY release_year DESC, total DESC\n",
        "\"\"\").show(15)\n"
      ],
      "metadata": {
        "colab": {
          "base_uri": "https://localhost:8080/"
        },
        "id": "V8GiQhWsy7N7",
        "outputId": "f5e841ea-44d2-4558-fe08-c1baf99c17aa"
      },
      "execution_count": 16,
      "outputs": [
        {
          "output_type": "stream",
          "name": "stdout",
          "text": [
            "+-----------------+-------------+-----+\n",
            "|     release_year|         type|total|\n",
            "+-----------------+-------------+-----+\n",
            "|    United States|        Movie|    1|\n",
            "|    June 12, 2021|        Movie|    1|\n",
            "| January 15, 2021|        Movie|    1|\n",
            "| January 13, 2021|        Movie|    1|\n",
            "|December 15, 2020|      TV Show|    1|\n",
            "|  August 13, 2020|        Movie|    1|\n",
            "|           40 min|William Wyler|    1|\n",
            "|             2021|      TV Show|  314|\n",
            "|             2021|        Movie|  275|\n",
            "|             2020|        Movie|  516|\n",
            "|             2020|      TV Show|  436|\n",
            "|             2019|        Movie|  630|\n",
            "|             2019|      TV Show|  396|\n",
            "|             2018|        Movie|  765|\n",
            "|             2018|      TV Show|  380|\n",
            "+-----------------+-------------+-----+\n",
            "only showing top 15 rows\n",
            "\n"
          ]
        }
      ]
    }
  ]
}